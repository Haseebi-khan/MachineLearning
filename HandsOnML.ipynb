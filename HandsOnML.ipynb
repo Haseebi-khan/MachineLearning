{
 "cells": [
  {
   "cell_type": "markdown",
   "id": "bd589961",
   "metadata": {},
   "source": [
    "Reinforcement Learning\n",
    "\n",
    "Reinforcement Learning is a very different beast. The learning system, called an agent\n",
    "in this context, can observe the environment, select and perform actions, and get\n",
    "rewards in return (or penalties in the form of negative rewards, as in Figure 1-12).\n",
    "\n",
    "It must then learn by itself what is the best strategy, called a policy, to get the most\n",
    "reward over time. A policy defines what action the agent should choose when it is in a\n",
    "given situation."
   ]
  },
  {
   "cell_type": "markdown",
   "id": "d2124733",
   "metadata": {},
   "source": [
    "many robots implement Reinforcement Learning algorithms to learn\n",
    "how to walk. DeepMind’s AlphaGo program is also a good example of Reinforcement\n",
    "Learning"
   ]
  },
  {
   "cell_type": "markdown",
   "id": "f1f0e455",
   "metadata": {},
   "source": [
    "Batch learning\n",
    "\n",
    "In batch learning, the system is incapable of learning incrementally: it must be trained\n",
    "using all the available data. This will generally take a lot of time and computing\n",
    "resources, so it is typically done offline. First the system is trained, and then it is\n",
    "launched into production and runs without learning anymore; it just applies what it\n",
    "has learned. This is called oine learning.\n"
   ]
  },
  {
   "cell_type": "markdown",
   "id": "d4eefd18",
   "metadata": {},
   "source": [
    "Online learning\n",
    "\n",
    "In online learning, you train the system incrementally by feeding it data instances\n",
    "sequentially, either individually or by small groups called mini-batches. Each learning\n",
    "step is fast and cheap, so the system can learn about new data on the fly."
   ]
  },
  {
   "cell_type": "markdown",
   "id": "2fde5175",
   "metadata": {},
   "source": [
    "Online learning algorithms can also be used to train systems on huge datasets that\n",
    "cannot fit in one machine’s main memory (this is called out-of-core learning)"
   ]
  },
  {
   "cell_type": "markdown",
   "metadata": {},
   "source": [
    "One important parameter of online learning systems is how fast they should adapt to\n",
    "changing data: this is called the learning rate"
   ]
  },
  {
   "cell_type": "markdown",
   "id": "07fe1fc3",
   "metadata": {},
   "source": [
    "Instance-Based Versus Model-Based Learning\n",
    "\n",
    "One more way to categorize Machine Learning systems is by how they generalize.\n",
    "Most Machine Learning tasks are about making predictions. This means that given a\n",
    "number of training examples, the system needs to be able to generalize to examples it\n",
    "has never seen before. Having a good performance measure on the training data is\n",
    "good, but insufficient; the true goal is to perform well on new instances.\n"
   ]
  },
  {
   "cell_type": "markdown",
   "id": "48149aae",
   "metadata": {},
   "source": [
    "Model-based learning\n",
    "\n",
    "Another way to generalize from a set of examples is to build a model of these exam‐\n",
    "ples, then use that model to make predictions. This is called model-based learning\n",
    "\n",
    "For example, suppose you want to know if money makes people happy, so you down‐\n",
    "load the Better Life Index data from the OECD’s website as well as stats about GDP\n",
    "per capita from the IMF’s website. Then you join the tables and sort by GDP per cap‐\n",
    "ita"
   ]
  },
  {
   "cell_type": "markdown",
   "id": "d096349d",
   "metadata": {},
   "source": []
  },
  {
   "cell_type": "markdown",
   "id": "4b075e39",
   "metadata": {},
   "source": []
  },
  {
   "cell_type": "markdown",
   "id": "aa3ff9fa",
   "metadata": {},
   "source": []
  },
  {
   "cell_type": "markdown",
   "id": "72e31952",
   "metadata": {},
   "source": []
  },
  {
   "cell_type": "markdown",
   "id": "d037971b",
   "metadata": {},
   "source": []
  },
  {
   "cell_type": "markdown",
   "id": "e22fccc9",
   "metadata": {},
   "source": []
  },
  {
   "cell_type": "markdown",
   "id": "41326b6a",
   "metadata": {},
   "source": []
  },
  {
   "cell_type": "markdown",
   "id": "a6d32b94",
   "metadata": {},
   "source": []
  }
 ],
 "metadata": {
  "language_info": {
   "name": "python"
  }
 },
 "nbformat": 4,
 "nbformat_minor": 5
}
