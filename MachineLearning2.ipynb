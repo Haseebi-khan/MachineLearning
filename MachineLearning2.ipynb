{
  "nbformat": 4,
  "nbformat_minor": 0,
  "metadata": {
    "colab": {
      "provenance": [],
      "name": "MachineLearning2.ipynb",
      "authorship_tag": "ABX9TyOhpKrXiwxkZfpQPxjRyiiO",
      "include_colab_link": true
    },
    "kernelspec": {
      "name": "python3",
      "display_name": "Python 3"
    },
    "language_info": {
      "name": "python"
    }
  },
  "cells": [
    {
      "cell_type": "markdown",
      "metadata": {
        "id": "view-in-github",
        "colab_type": "text"
      },
      "source": [
        "<a href=\"https://colab.research.google.com/github/Haseebi-khan/MachineLearning/blob/LearningML/MachineLearning2.ipynb\" target=\"_parent\"><img src=\"https://colab.research.google.com/assets/colab-badge.svg\" alt=\"Open In Colab\"/></a>"
      ]
    },
    {
      "cell_type": "markdown",
      "source": [
        "# Machine Learning 2"
      ],
      "metadata": {
        "id": "wCBSMkBQQSzd"
      }
    },
    {
      "cell_type": "markdown",
      "source": [
        "**Statistics Mean Mode Median Variance and Standard Daveiation**"
      ],
      "metadata": {
        "id": "40hVBJ6jQSf_"
      }
    },
    {
      "cell_type": "markdown",
      "source": [
        "\n",
        "![image.png](data:image/png;base64,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)"
      ],
      "metadata": {
        "id": "YPppSOi0S-Xo"
      }
    },
    {
      "cell_type": "code",
      "execution_count": 2,
      "metadata": {
        "id": "5xQ0VBflP66r",
        "colab": {
          "base_uri": "https://localhost:8080/"
        },
        "outputId": "89c863e3-4697-4cad-d27b-b9649e158511"
      },
      "outputs": [
        {
          "output_type": "stream",
          "name": "stdout",
          "text": [
            "Arr 1: Mean:  48.86666666666667\n",
            "Arr 1: SD:  23.717410388901136\n",
            "Arr 2: Mean:  65.1\n",
            "Arr 2: SD:  2.5865034312755126\n"
          ]
        }
      ],
      "source": [
        "import numpy as np\n",
        "import pandas as pd\n",
        "import matplotlib.pyplot as plt\n",
        "import seaborn as sns\n",
        "\n",
        "arr = np.array([45,67,34,65,23,12,65,78,98,67,45,34,23,21,56])\n",
        "arr2 = np.array([68, 69, 64, 60, 64, 63, 64, 68, 65, 66])\n",
        "\n",
        "mean1 = arr.mean()\n",
        "s1 = arr.std()\n",
        "\n",
        "mean2 = arr2.mean()\n",
        "s2 = arr2.std()\n",
        "\n",
        "print(\"Arr 1: Mean: \", mean1)\n",
        "print(\"Arr 1: SD: \", s1)\n",
        "\n",
        "print(\"Arr 2: Mean: \", mean2)\n",
        "print(\"Arr 2: SD: \", s2)"
      ]
    },
    {
      "cell_type": "code",
      "source": [
        "data = np.array([4, 95, 5, 60, 76, 1, 93, 84, 71, 100])\n",
        "\n",
        "mean = data.mean()\n",
        "sd = data.std()\n",
        "\n",
        "print(\"Mean: \", mean)\n",
        "print(\"Standard Daviaion: \", sd)"
      ],
      "metadata": {
        "colab": {
          "base_uri": "https://localhost:8080/"
        },
        "id": "q8p98rbvVDlD",
        "outputId": "4e90719c-f9c3-42da-8db4-446f2f07bb7d"
      },
      "execution_count": 3,
      "outputs": [
        {
          "output_type": "stream",
          "name": "stdout",
          "text": [
            "Mean:  58.9\n",
            "Standard Daviaion:  38.074794812316455\n"
          ]
        }
      ]
    },
    {
      "cell_type": "markdown",
      "source": [
        "**Covariance**"
      ],
      "metadata": {
        "id": "ZFhYCZCVV9yu"
      }
    },
    {
      "cell_type": "code",
      "source": [
        "no_of_hours = np.array([1,2,3,4,5,6,7])\n",
        "gpa = np.array([1.4, 1.6, 2.5, 2.6, 3.5, 3.7, 4])\n",
        "\n",
        "cov = np.cov(no_of_hours, gpa)\n",
        "\n",
        "print(cov)\n",
        "\n",
        "# [[var(X)    cov(X, Y)]\n",
        "#  [cov(Y, X) var(Y)]]\n",
        "\n",
        "plt.scatter(no_of_hours, gpa)"
      ],
      "metadata": {
        "colab": {
          "base_uri": "https://localhost:8080/",
          "height": 482
        },
        "id": "5HqQW7u7WCPe",
        "outputId": "4148fcb5-9efc-45ec-8486-c7841ab5259c"
      },
      "execution_count": 4,
      "outputs": [
        {
          "output_type": "stream",
          "name": "stdout",
          "text": [
            "[[4.66666667 2.16666667]\n",
            " [2.16666667 1.04285714]]\n"
          ]
        },
        {
          "output_type": "execute_result",
          "data": {
            "text/plain": [
              "<matplotlib.collections.PathCollection at 0x78ae1c17da10>"
            ]
          },
          "metadata": {},
          "execution_count": 4
        },
        {
          "output_type": "display_data",
          "data": {
            "text/plain": [
              "<Figure size 640x480 with 1 Axes>"
            ],
            "image/png": "[encoded data removed]"
          },
          "metadata": {}
        }
      ]
    },
    {
      "cell_type": "markdown",
      "source": [
        "[[var(X)    cov(X, Y)]\n",
        "\n",
        " [cov(Y, X) var(Y)]]"
      ],
      "metadata": {
        "id": "55OLtoTQbNtV"
      }
    },
    {
      "cell_type": "code",
      "source": [
        "drugDose = np.array([0, 1, 2, 3, 4, 5, 6, 7])\n",
        "forgotFullness = np.array([1.86, 1.31, 0.62, 0.33, 0.09, -0.67, -1.23, -1.37])\n",
        "\n",
        "cov = np.cov(drugDose, forgotFullness)\n",
        "\n",
        "print(\"=============================\")\n",
        "print(cov)\n",
        "print(\"=============================\")\n",
        "\n",
        "\n",
        "print(\"=============================\")\n",
        "print(\"var(x), cov(x,y): ->\",cov[0])\n",
        "print(\"=============================\")\n",
        "print(\"cov(y,x),var(y):  ->\",cov[1])\n",
        "print(\"=============================\")\n",
        "\n",
        "\n",
        "# print(cov[2])\n",
        "# print(cov[3])\n",
        "\n",
        "# [[var(X) cov(X, Y)]\n",
        "#  [cov(Y, X) var(Y)]]\n",
        "\n",
        "\n",
        "sns.scatterplot(x=drugDose,y=forgotFullness)\n",
        "# sns.scatterplot(y=drugDose,x=forgotFullness)"
      ],
      "metadata": {
        "colab": {
          "base_uri": "https://localhost:8080/",
          "height": 607
        },
        "id": "JY4Jp767ayDs",
        "outputId": "f92f0dea-0946-4fd1-8730-85eb37d68758"
      },
      "execution_count": 5,
      "outputs": [
        {
          "output_type": "stream",
          "name": "stdout",
          "text": [
            "=============================\n",
            "[[ 6.         -2.81571429]\n",
            " [-2.81571429  1.34362143]]\n",
            "=============================\n",
            "=============================\n",
            "var(x), cov(x,y): -> [ 6.         -2.81571429]\n",
            "=============================\n",
            "cov(y,x),var(y):  -> [-2.81571429  1.34362143]\n",
            "=============================\n"
          ]
        },
        {
          "output_type": "execute_result",
          "data": {
            "text/plain": [
              "<Axes: >"
            ]
          },
          "metadata": {},
          "execution_count": 5
        },
        {
          "output_type": "display_data",
          "data": {
            "text/plain": [
              "<Figure size 640x480 with 1 Axes>"
            ],
            "image/png": "[encoded data removed]"
          },
          "metadata": {}
        }
      ]
    },
    {
      "cell_type": "code",
      "source": [
        "x = np.array([2, -2, -2, 2])\n",
        "y = np.array([2, 2, -2, -2])\n",
        "\n",
        "cov = np.cov(x,y)\n",
        "\n",
        "print(\"Covariance: \\n\",cov,\"\\n\\n\")\n",
        "\n",
        "plt.scatter(x,y)\n"
      ],
      "metadata": {
        "id": "uKjvWEW8iKqO",
        "colab": {
          "base_uri": "https://localhost:8080/",
          "height": 534
        },
        "outputId": "e8439e15-ea9e-493b-df0b-42073a04a36e"
      },
      "execution_count": 6,
      "outputs": [
        {
          "output_type": "stream",
          "name": "stdout",
          "text": [
            "Covariance: \n",
            " [[5.33333333 0.        ]\n",
            " [0.         5.33333333]] \n",
            "\n",
            "\n"
          ]
        },
        {
          "output_type": "execute_result",
          "data": {
            "text/plain": [
              "<matplotlib.collections.PathCollection at 0x78adcb4b4b50>"
            ]
          },
          "metadata": {},
          "execution_count": 6
        },
        {
          "output_type": "display_data",
          "data": {
            "text/plain": [
              "<Figure size 640x480 with 1 Axes>"
            ],
            "image/png": "[encoded data removed]"
          },
          "metadata": {}
        }
      ]
    },
    {
      "cell_type": "markdown",
      "source": [
        "**Correlation Co efficient**"
      ],
      "metadata": {
        "id": "g29TBtq9jyry"
      }
    },
    {
      "cell_type": "code",
      "source": [
        "no_of_hours = np.array([1,2,3,4,5,6,7])\n",
        "gpa = np.array([1.4, 1.6, 2.5, 2.6, 3.5, 3.7, 4])\n",
        "\n",
        "corr_coeff = np.corrcoef(no_of_hours, gpa)\n",
        "print(corr_coeff)\n",
        "\n",
        "\n",
        "# [[corr(X, X)   corr(X, Y)]\n",
        "#  [corr(Y, X)   corr(Y, Y)]]\n",
        "sns.scatterplot(x=no_of_hours,y=gpa)"
      ],
      "metadata": {
        "colab": {
          "base_uri": "https://localhost:8080/",
          "height": 482
        },
        "id": "Tf1OCe3jjyPz",
        "outputId": "bde13967-c09b-4c89-ac5e-e037a4c48bff"
      },
      "execution_count": 12,
      "outputs": [
        {
          "output_type": "stream",
          "name": "stdout",
          "text": [
            "[[1.         0.98214656]\n",
            " [0.98214656 1.        ]]\n"
          ]
        },
        {
          "output_type": "execute_result",
          "data": {
            "text/plain": [
              "<Axes: >"
            ]
          },
          "metadata": {},
          "execution_count": 12
        },
        {
          "output_type": "display_data",
          "data": {
            "text/plain": [
              "<Figure size 640x480 with 1 Axes>"
            ],
            "image/png": "[encoded data removed]"
          },
          "metadata": {}
        }
      ]
    },
    {
      "cell_type": "markdown",
      "source": [
        "[[corr(X, X)   corr(X, Y)]\n",
        "\n",
        " [corr(Y, X)   corr(Y, Y)]]"
      ],
      "metadata": {
        "id": "K7mngSzKl61U"
      }
    }
  ]
}