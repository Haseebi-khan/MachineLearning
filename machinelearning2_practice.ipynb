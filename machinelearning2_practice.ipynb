{
  "cells": [
    {
      "cell_type": "markdown",
      "metadata": {
        "colab_type": "text",
        "id": "view-in-github"
      },
      "source": [
        "<a href=\"https://colab.research.google.com/github/Haseebi-khan/MachineLearning/blob/LearningML/machinelearning2_practice.ipynb\" target=\"_parent\"><img src=\"https://colab.research.google.com/assets/colab-badge.svg\" alt=\"Open In Colab\"/></a>"
      ]
    },
    {
      "cell_type": "markdown",
      "metadata": {},
      "source": [
        "Expenditure: Independent Variable  \n",
        "Sale: Dependent Variable  \n",
        "You need to check if there is a relationship between the advertising budget and sales.  \n",
        "How strong is the relationship?  \n",
        "Is it linear?  \n",
        "How accurately can you predict future values?"
      ]
    },
    {
      "cell_type": "code",
      "execution_count": 2,
      "metadata": {},
      "outputs": [
        {
          "name": "stdout",
          "output_type": "stream",
          "text": [
            "     expenditure  sales\n",
            "0          337.1   22.1\n",
            "1          128.9   10.4\n",
            "2          132.4    9.3\n",
            "3          251.3   18.5\n",
            "4          250.0   12.9\n",
            "..           ...    ...\n",
            "195         55.7    7.6\n",
            "196        107.2    9.7\n",
            "197        192.7   12.8\n",
            "198        391.8   25.5\n",
            "199        249.4   13.4\n",
            "\n",
            "[200 rows x 2 columns]\n"
          ]
        }
      ],
      "source": [
        "import numpy as np\n",
        "import pandas as pd\n",
        "import matplotlib.pyplot as plt\n",
        "import seaborn as sns\n",
        "\n",
        "df = pd.read_csv( r\"D:\\Codes\\Python\\MachineLearning\\Datasets\\advertising1D.csv\" )\n",
        "\n",
        "print(df)"
      ]
    },
    {
      "cell_type": "code",
      "execution_count": 6,
      "metadata": {},
      "outputs": [
        {
          "data": {
            "text/plain": [
              "<bound method NDFrame.describe of      expenditure  sales\n",
              "0          337.1   22.1\n",
              "1          128.9   10.4\n",
              "2          132.4    9.3\n",
              "3          251.3   18.5\n",
              "4          250.0   12.9\n",
              "..           ...    ...\n",
              "195         55.7    7.6\n",
              "196        107.2    9.7\n",
              "197        192.7   12.8\n",
              "198        391.8   25.5\n",
              "199        249.4   13.4\n",
              "\n",
              "[200 rows x 2 columns]>"
            ]
          },
          "execution_count": 6,
          "metadata": {},
          "output_type": "execute_result"
        }
      ],
      "source": [
        "df.describe"
      ]
    },
    {
      "cell_type": "code",
      "execution_count": 7,
      "metadata": {},
      "outputs": [
        {
          "data": {
            "text/plain": [
              "expenditure    float64\n",
              "sales          float64\n",
              "dtype: object"
            ]
          },
          "execution_count": 7,
          "metadata": {},
          "output_type": "execute_result"
        }
      ],
      "source": [
        "df.dtypes"
      ]
    },
    {
      "cell_type": "code",
      "execution_count": 13,
      "metadata": {},
      "outputs": [
        {
          "data": {
            "text/html": [
              "<div>\n",
              "<style scoped>\n",
              "    .dataframe tbody tr th:only-of-type {\n",
              "        vertical-align: middle;\n",
              "    }\n",
              "\n",
              "    .dataframe tbody tr th {\n",
              "        vertical-align: top;\n",
              "    }\n",
              "\n",
              "    .dataframe thead th {\n",
              "        text-align: right;\n",
              "    }\n",
              "</style>\n",
              "<table border=\"1\" class=\"dataframe\">\n",
              "  <thead>\n",
              "    <tr style=\"text-align: right;\">\n",
              "      <th></th>\n",
              "      <th>expenditure</th>\n",
              "      <th>sales</th>\n",
              "    </tr>\n",
              "  </thead>\n",
              "  <tbody>\n",
              "    <tr>\n",
              "      <th>101</th>\n",
              "      <td>433.6</td>\n",
              "      <td>23.8</td>\n",
              "    </tr>\n",
              "    <tr>\n",
              "      <th>183</th>\n",
              "      <td>402.4</td>\n",
              "      <td>26.2</td>\n",
              "    </tr>\n",
              "    <tr>\n",
              "      <th>198</th>\n",
              "      <td>391.8</td>\n",
              "      <td>25.5</td>\n",
              "    </tr>\n",
              "    <tr>\n",
              "      <th>98</th>\n",
              "      <td>383.2</td>\n",
              "      <td>25.4</td>\n",
              "    </tr>\n",
              "    <tr>\n",
              "      <th>17</th>\n",
              "      <td>376.8</td>\n",
              "      <td>24.4</td>\n",
              "    </tr>\n",
              "    <tr>\n",
              "      <th>...</th>\n",
              "      <td>...</td>\n",
              "      <td>...</td>\n",
              "    </tr>\n",
              "    <tr>\n",
              "      <th>78</th>\n",
              "      <td>44.7</td>\n",
              "      <td>5.3</td>\n",
              "    </tr>\n",
              "    <tr>\n",
              "      <th>108</th>\n",
              "      <td>39.1</td>\n",
              "      <td>5.3</td>\n",
              "    </tr>\n",
              "    <tr>\n",
              "      <th>132</th>\n",
              "      <td>37.7</td>\n",
              "      <td>5.7</td>\n",
              "    </tr>\n",
              "    <tr>\n",
              "      <th>155</th>\n",
              "      <td>21.4</td>\n",
              "      <td>3.2</td>\n",
              "    </tr>\n",
              "    <tr>\n",
              "      <th>8</th>\n",
              "      <td>11.7</td>\n",
              "      <td>4.8</td>\n",
              "    </tr>\n",
              "  </tbody>\n",
              "</table>\n",
              "<p>200 rows × 2 columns</p>\n",
              "</div>"
            ],
            "text/plain": [
              "     expenditure  sales\n",
              "101        433.6   23.8\n",
              "183        402.4   26.2\n",
              "198        391.8   25.5\n",
              "98         383.2   25.4\n",
              "17         376.8   24.4\n",
              "..           ...    ...\n",
              "78          44.7    5.3\n",
              "108         39.1    5.3\n",
              "132         37.7    5.7\n",
              "155         21.4    3.2\n",
              "8           11.7    4.8\n",
              "\n",
              "[200 rows x 2 columns]"
            ]
          },
          "execution_count": 13,
          "metadata": {},
          "output_type": "execute_result"
        }
      ],
      "source": [
        "df.sort_values(by=['expenditure', 'sales'], inplace=True, ascending=[False, False])\n",
        "df"
      ]
    },
    {
      "cell_type": "code",
      "execution_count": 15,
      "metadata": {},
      "outputs": [
        {
          "name": "stdout",
          "output_type": "stream",
          "text": [
            "Expenditure max:  433.6\n",
            "Expenditure min:  11.7\n",
            "Sales max:  27.0\n",
            "Sales min:  1.6\n"
          ]
        }
      ],
      "source": [
        "\n",
        "print(\"Expenditure max: \",df['expenditure'].max())\n",
        "print(\"Expenditure min: \",df['expenditure'].min())\n",
        "print(\"Sales max: \",df['sales'].max())\n",
        "print(\"Sales min: \",df['sales'].min())"
      ]
    },
    {
      "cell_type": "code",
      "execution_count": null,
      "metadata": {},
      "outputs": [
        {
          "name": "stdout",
          "output_type": "stream",
          "text": [
            "ex mean: 200.86050000000003\n",
            "ex std: 92.9851805869837\n",
            "Expenditure std indicate that the value of expenditure are spread out.\n",
            "\n",
            "\n",
            "sales mean:  14.0225\n",
            "sales std:  5.217456565710478\n",
            "Sales std indicate that the value of sales are not spread out.\n"
          ]
        }
      ],
      "source": [
        "print(\"ex mean:\",df[\"expenditure\"].mean())\n",
        "print(\"ex std:\",df[\"expenditure\"].std())\n",
        "print(\"Expenditure std indicate that the value of expenditure are spread out.\\n\\n\")\n",
        "\n",
        "print(\"sales mean: \",df[\"sales\"].mean())\n",
        "print(\"sales std: \",df[\"sales\"].std())\n",
        "print(\"Sales std indicate that the value of sales are not much spread out.\")\n",
        "\n"
      ]
    },
    {
      "cell_type": "markdown",
      "metadata": {},
      "source": [
        "**Covariance:**"
      ]
    },
    {
      "cell_type": "code",
      "execution_count": null,
      "metadata": {},
      "outputs": [
        {
          "name": "stdout",
          "output_type": "stream",
          "text": [
            "[[8646.24380879  420.96727513]\n",
            " [ 420.96727513   27.22185302]]\n"
          ]
        }
      ],
      "source": [
        "print(np.cov(df[\"expenditure\"], df[\"sales\"]))\n",
        "\n",
        "\n",
        "# [[var(expenditure)           cov(expenditure, sales)]\n",
        "#  [cov(expenditure, sales)    var(sales)]]\n"
      ]
    },
    {
      "cell_type": "markdown",
      "metadata": {},
      "source": [
        "positive co variance shows that two variable tend to move in the same direction."
      ]
    },
    {
      "cell_type": "markdown",
      "metadata": {},
      "source": [
        "**Correlation Co efficient**"
      ]
    },
    {
      "cell_type": "code",
      "execution_count": 22,
      "metadata": {},
      "outputs": [
        {
          "name": "stdout",
          "output_type": "stream",
          "text": [
            "[[1.        0.8677123]\n",
            " [0.8677123 1.       ]]\n"
          ]
        }
      ],
      "source": [
        "print(np.corrcoef(df[\"expenditure\"], df[\"sales\"]))"
      ]
    },
    {
      "cell_type": "markdown",
      "metadata": {},
      "source": [
        "[[corr(X, X)   corr(X, Y)]\n",
        "\n",
        " [corr(Y, X)   corr(Y, Y)]]"
      ]
    },
    {
      "cell_type": "code",
      "execution_count": 25,
      "metadata": {},
      "outputs": [
        {
          "data": {
            "text/plain": [
              "<matplotlib.collections.PathCollection at 0x1e641c17e00>"
            ]
          },
          "execution_count": 25,
          "metadata": {},
          "output_type": "execute_result"
        },
        {
          "data": {
            "image/png": "[encoded data removed]",
            "text/plain": [
              "<Figure size 640x480 with 1 Axes>"
            ]
          },
          "metadata": {},
          "output_type": "display_data"
        }
      ],
      "source": [
        "plt.scatter(x=df[\"expenditure\"], y=df[\"sales\"])"
      ]
    },
    {
      "cell_type": "markdown",
      "metadata": {},
      "source": [
        "# Regression"
      ]
    },
    {
      "cell_type": "markdown",
      "metadata": {},
      "source": [
        "**Learning formula: y = a + bx + e(i)**"
      ]
    },
    {
      "cell_type": "code",
      "execution_count": 30,
      "metadata": {},
      "outputs": [
        {
          "name": "stdout",
          "output_type": "stream",
          "text": [
            "0.04868787931904816\n"
          ]
        }
      ],
      "source": [
        "# finding A:\n",
        "\n",
        "x = np.array(df[\"expenditure\"])\n",
        "y = np.array(df[\"sales\"])\n",
        "nominator = (len(x) * np.sum(x * y)) - (np.sum(x)*np.sum(y))\n",
        "denomnatoe = (len(x) * np.sum(x**2)) - (np.sum(x)**2)\n",
        "a = nominator / denomnatoe\n",
        "print(a)\n",
        "\n",
        "# 0.04868787931904816"
      ]
    },
    {
      "cell_type": "code",
      "execution_count": null,
      "metadata": {},
      "outputs": [
        {
          "name": "stdout",
          "output_type": "stream",
          "text": [
            "4.243028216036327\n"
          ]
        }
      ],
      "source": [
        "# Finding B:\n",
        "\n",
        "b = np.mean(y) - (a*(np.mean(x)))\n",
        "\n",
        "print(b)\n",
        "\n",
        "# 4.243028216036327"
      ]
    }
  ],
  "metadata": {
    "colab": {
      "authorship_tag": "ABX9TyMyp64rRBSWABzfh0sZ1cze",
      "include_colab_link": true,
      "provenance": []
    },
    "kernelspec": {
      "display_name": ".venv",
      "language": "python",
      "name": "python3"
    },
    "language_info": {
      "codemirror_mode": {
        "name": "ipython",
        "version": 3
      },
      "file_extension": ".py",
      "mimetype": "text/x-python",
      "name": "python",
      "nbconvert_exporter": "python",
      "pygments_lexer": "ipython3",
      "version": "3.13.2"
    }
  },
  "nbformat": 4,
  "nbformat_minor": 0
}
